{
 "cells": [
  {
   "cell_type": "code",
   "execution_count": null,
   "id": "fc4e8795-d461-41c4-bcbe-be3b8abdae81",
   "metadata": {},
   "outputs": [],
   "source": [
    "# Python is a high-level, interpreted programming language known for its simple and readable syntax. \n",
    "# It’s popular because it allows developers to write clean code quickly, \n",
    "# supports multiple programming styles , and has a massive ecosystem of libraries for tasks ranging from web development to data analysis."
   ]
  },
  {
   "cell_type": "code",
   "execution_count": null,
   "id": "774f3164-5e84-4ca8-8f05-d27345ddd7e5",
   "metadata": {},
   "outputs": [],
   "source": [
    "# An interpreter executes code line-by-line without prior compilation."
   ]
  },
  {
   "cell_type": "code",
   "execution_count": null,
   "id": "71b8eef1-f1c0-428f-aa00-6e5dc1348bad",
   "metadata": {},
   "outputs": [],
   "source": [
    "# Pre-defined keywords are special reserved words in Python that have a specific meaning and purpose in the language, like if, for, while, class, def, \n",
    "# True, False, and many others. They can’t be used as variable names because Python uses them to understand code structure."
   ]
  },
  {
   "cell_type": "code",
   "execution_count": null,
   "id": "59523806-85cd-48fc-acbc-ab047f0775ed",
   "metadata": {},
   "outputs": [],
   "source": [
    "# No Keywords cannot be used as variable names."
   ]
  },
  {
   "cell_type": "code",
   "execution_count": null,
   "id": "7cc088e6-e808-40fd-84dc-abbb8ee56a7a",
   "metadata": {},
   "outputs": [],
   "source": [
    "# Mutability refers to whether an object’s value can be changed after it’s created. Mutable objects (like lists and dictionaries) \n",
    "# can be modified in place,\n",
    "# while immutable objects (like strings and tuples) cannot be changed once created."
   ]
  },
  {
   "cell_type": "code",
   "execution_count": null,
   "id": "68359b18-9e1e-4cfe-8373-036c5a5a3ba8",
   "metadata": {},
   "outputs": [],
   "source": [
    "# Lists are designed for flexibility — you can add, remove, or change items. Tuples, on the other hand, are meant to store fixed collections of items. \n",
    "# Making tuples immutable helps improve performance and ensures data remains unchanged."
   ]
  },
  {
   "cell_type": "code",
   "execution_count": null,
   "id": "1774b1dc-1caa-4eb2-87a7-11d786fe7050",
   "metadata": {},
   "outputs": [],
   "source": [
    "# == checks if two values are equal, while is checks if they are actually the same object in memory."
   ]
  },
  {
   "cell_type": "code",
   "execution_count": null,
   "id": "c474a0a3-56ca-40d9-b4c9-d57f2a22cbe2",
   "metadata": {},
   "outputs": [],
   "source": [
    "# Logical operators are used to combine conditional statements:\n",
    "# •\tAnd= True if both conditions are true\n",
    "# •\tor = True if at least one condition is true\n",
    "# •\tnot =Reverses the truth value\n"
   ]
  },
  {
   "cell_type": "code",
   "execution_count": null,
   "id": "e50f4c2f-e5de-4e40-a241-7f8fcacf5f18",
   "metadata": {},
   "outputs": [],
   "source": [
    "# Type casting is converting a value from one data type to another.\n",
    "# For example, turning an integer into a string with str(5) or converting a string \"10\" into an integer with int(\"10\")."
   ]
  },
  {
   "cell_type": "code",
   "execution_count": null,
   "id": "4c4bc9be-da27-4d3e-88b7-56485c171d9a",
   "metadata": {},
   "outputs": [],
   "source": [
    "# Implicit casting (Type conversion): Python automatically converts data types when it’s safe to do so, \n",
    "# like turning an integer into a float during addition.\n",
    "# Explicit casting: You manually convert data types using functions like int(), float(), or str().\n"
   ]
  },
  {
   "cell_type": "code",
   "execution_count": null,
   "id": "5adde4a6-0762-49fc-84a8-a9a3c58346f3",
   "metadata": {},
   "outputs": [],
   "source": [
    "# Conditional statements let the program make decisions and execute certain blocks of code only when specific conditions are true. \n",
    "# Without them, every program would run in a straight line without logic-based branching."
   ]
  },
  {
   "cell_type": "code",
   "execution_count": null,
   "id": "7464246e-b8f0-4906-aad4-1e90d221be66",
   "metadata": {},
   "outputs": [],
   "source": [
    "# elif  lets you check multiple conditions in sequence. Python will execute the first condition that evaluates to True and skip the rest."
   ]
  },
  {
   "cell_type": "code",
   "execution_count": null,
   "id": "3fd19222-d4e5-49c9-ba81-e515dc49c9a7",
   "metadata": {},
   "outputs": [],
   "source": [
    "# •\tFor loop: Runs the program in give range .\n",
    "# •\tWhile loop: Runs as long as a condition remains true.\n"
   ]
  },
  {
   "cell_type": "code",
   "execution_count": null,
   "id": "ac1d6f4c-bd77-4a6d-b4ec-4e1ee7cfec19",
   "metadata": {},
   "outputs": [],
   "source": [
    "# If you’re reading data from a file until the end of the file is reached, you wouldn’t know in advance how many lines there are. \n",
    "# In this case, a while loop that keeps running until line == \"\" is more suitable than a for loop."
   ]
  },
  {
   "cell_type": "code",
   "execution_count": null,
   "id": "3aa29a06-58f4-475e-a34b-2bbc9994ce23",
   "metadata": {},
   "outputs": [],
   "source": [
    "# Practical Questions"
   ]
  },
  {
   "cell_type": "code",
   "execution_count": 4,
   "id": "d2938a53-6f3b-4367-bf5a-695991627313",
   "metadata": {},
   "outputs": [
    {
     "name": "stdout",
     "output_type": "stream",
     "text": [
      "Hello, World!\n"
     ]
    }
   ],
   "source": [
    "print(\"Hello, World!\")\n"
   ]
  },
  {
   "cell_type": "code",
   "execution_count": 5,
   "id": "4a56d331-245b-44ab-89fe-fa098ac56281",
   "metadata": {},
   "outputs": [
    {
     "name": "stdout",
     "output_type": "stream",
     "text": [
      "Name: Deepesh\n",
      "Age: 23\n"
     ]
    }
   ],
   "source": [
    "name = \"Deepesh\"\n",
    "age = 23\n",
    "print(\"Name:\", name)\n",
    "print(\"Age:\", age)\n"
   ]
  },
  {
   "cell_type": "code",
   "execution_count": 6,
   "id": "81d4d0d7-b45b-4fe1-8904-bb0ecf5e794c",
   "metadata": {},
   "outputs": [
    {
     "name": "stdout",
     "output_type": "stream",
     "text": [
      "Python Keywords are:\n",
      "['False', 'None', 'True', 'and', 'as', 'assert', 'async', 'await', 'break', 'class', 'continue', 'def', 'del', 'elif', 'else', 'except', 'finally', 'for', 'from', 'global', 'if', 'import', 'in', 'is', 'lambda', 'nonlocal', 'not', 'or', 'pass', 'raise', 'return', 'try', 'while', 'with', 'yield']\n"
     ]
    }
   ],
   "source": [
    "import keyword\n",
    "\n",
    "print(\"Python Keywords are:\")\n",
    "print(keyword.kwlist)\n"
   ]
  },
  {
   "cell_type": "code",
   "execution_count": 7,
   "id": "dc266004-7db3-4cbf-92dc-c5778e469fb7",
   "metadata": {},
   "outputs": [
    {
     "name": "stdin",
     "output_type": "stream",
     "text": [
      "Enter a word:  false\n"
     ]
    },
    {
     "name": "stdout",
     "output_type": "stream",
     "text": [
      "false is NOT a Python keyword.\n"
     ]
    }
   ],
   "source": [
    "import keyword\n",
    "\n",
    "word = input(\"Enter a word: \")\n",
    "if keyword.iskeyword(word):\n",
    "    print(f\"{word} is a Python keyword.\")\n",
    "else:\n",
    "    print(f\"{word} is NOT a Python keyword.\")\n"
   ]
  },
  {
   "cell_type": "code",
   "execution_count": 9,
   "id": "13591349-91e9-4e29-9c3a-6491d5e14b29",
   "metadata": {},
   "outputs": [
    {
     "name": "stdout",
     "output_type": "stream",
     "text": [
      "[1, 2, 3, 4]\n",
      "10\n"
     ]
    }
   ],
   "source": [
    "def modify_list(lst):\n",
    "    lst.append(4)  \n",
    "\n",
    "def modify_number(num):\n",
    "    num += 5 \n",
    "\n",
    "my_list = [1, 2, 3]\n",
    "my_number = 10\n",
    "\n",
    "modify_list(my_list)\n",
    "modify_number(my_number)\n",
    "\n",
    "print(my_list)   \n",
    "print( my_number)  \n"
   ]
  },
  {
   "cell_type": "code",
   "execution_count": 10,
   "id": "c899f5d2-b323-42cd-bb97-895e64f9d416",
   "metadata": {},
   "outputs": [
    {
     "name": "stdin",
     "output_type": "stream",
     "text": [
      "Enter first number:  2.2\n",
      "Enter second number:  3.5\n"
     ]
    },
    {
     "name": "stdout",
     "output_type": "stream",
     "text": [
      "Addition: 5.7\n",
      "Subtraction: -1.2999999999999998\n",
      "Multiplication: 7.700000000000001\n",
      "Division: 0.6285714285714287\n"
     ]
    }
   ],
   "source": [
    "a = float(input(\"Enter first number: \"))\n",
    "b = float(input(\"Enter second number: \"))\n",
    "\n",
    "print(\"Addition:\", a + b)\n",
    "print(\"Subtraction:\", a - b)\n",
    "print(\"Multiplication:\", a * b)\n",
    "print(\"Division:\", a / b if b != 0 else \"Cannot divide by zero\")\n"
   ]
  },
  {
   "cell_type": "code",
   "execution_count": 11,
   "id": "826069e0-a52d-4c33-b8df-c6d2d9198e96",
   "metadata": {},
   "outputs": [
    {
     "name": "stdout",
     "output_type": "stream",
     "text": [
      "True\n",
      "True\n",
      "True\n"
     ]
    }
   ],
   "source": [
    "x = 10\n",
    "y = 20\n",
    "\n",
    "print(x > 5 and y > 15)  \n",
    "print(x < 5 or y > 15)   \n",
    "print(not (x > y))       # True\n"
   ]
  },
  {
   "cell_type": "code",
   "execution_count": 12,
   "id": "1d711328-2161-4137-ae9b-d283921964bf",
   "metadata": {},
   "outputs": [
    {
     "name": "stdout",
     "output_type": "stream",
     "text": [
      "Modified list: [10, 2, 3]\n",
      "Tuples are immutable, cannot change elements.\n"
     ]
    }
   ],
   "source": [
    "my_list = [1, 2, 3]\n",
    "my_tuple = (1, 2, 3)\n",
    "\n",
    "my_list[0] = 10\n",
    "print(\"Modified list:\", my_list)\n",
    "\n",
    "try:\n",
    "    my_tuple[0] = 10\n",
    "except TypeError:\n",
    "    print(\"Tuples are immutable, cannot change elements.\")\n"
   ]
  },
  {
   "cell_type": "code",
   "execution_count": 15,
   "id": "6670f0d6-e49d-40dd-880a-703f5560870c",
   "metadata": {},
   "outputs": [
    {
     "name": "stdin",
     "output_type": "stream",
     "text": [
      "Enter something:  5\n"
     ]
    },
    {
     "name": "stdout",
     "output_type": "stream",
     "text": [
      "Integer: 5\n",
      "Float: 5.0\n",
      "Boolean: True\n"
     ]
    }
   ],
   "source": [
    "user_input = input(\"Enter something: \")\n",
    "\n",
    "int_val = int(user_input)\n",
    "float_val = float(user_input)\n",
    "bool_val = bool(user_input)\n",
    "\n",
    "print(\"Integer:\", int_val)\n",
    "print(\"Float:\", float_val)\n",
    "print(\"Boolean:\", bool_val)\n"
   ]
  },
  {
   "cell_type": "code",
   "execution_count": 16,
   "id": "d05a6197-3f58-4379-a482-cf3ce46058c0",
   "metadata": {},
   "outputs": [
    {
     "name": "stdout",
     "output_type": "stream",
     "text": [
      "[10, 20, 30]\n"
     ]
    }
   ],
   "source": [
    "str_list = [\"10\", \"20\", \"30\"]\n",
    "int_list = [int(i) for i in str_list]\n",
    "print(int_list)\n"
   ]
  },
  {
   "cell_type": "code",
   "execution_count": 17,
   "id": "ecab64a5-0df1-458b-a774-28fbd0768fa0",
   "metadata": {},
   "outputs": [
    {
     "name": "stdin",
     "output_type": "stream",
     "text": [
      "Enter a number:  10\n"
     ]
    },
    {
     "name": "stdout",
     "output_type": "stream",
     "text": [
      "Positive\n"
     ]
    }
   ],
   "source": [
    "num = float(input(\"Enter a number: \"))\n",
    "\n",
    "if num > 0:\n",
    "    print(\"Positive\")\n",
    "elif num < 0:\n",
    "    print(\"Negative\")\n",
    "else:\n",
    "    print(\"Zero\")\n"
   ]
  },
  {
   "cell_type": "code",
   "execution_count": 18,
   "id": "af27f77e-e4ba-43bb-9ea8-2f0828c5bfd1",
   "metadata": {},
   "outputs": [
    {
     "name": "stdout",
     "output_type": "stream",
     "text": [
      "1\n",
      "2\n",
      "3\n",
      "4\n",
      "5\n",
      "6\n",
      "7\n",
      "8\n",
      "9\n",
      "10\n"
     ]
    }
   ],
   "source": [
    "for i in range(1, 11):\n",
    "    print(i)\n"
   ]
  },
  {
   "cell_type": "code",
   "execution_count": 23,
   "id": "5043637e-c816-4130-8617-878341cd1038",
   "metadata": {},
   "outputs": [
    {
     "name": "stdout",
     "output_type": "stream",
     "text": [
      "650\n"
     ]
    }
   ],
   "source": [
    "total=0\n",
    "for i in range(2,51):\n",
    "    if i%2==0:\n",
    "        total+=i\n",
    "print(total)   "
   ]
  },
  {
   "cell_type": "code",
   "execution_count": 25,
   "id": "cf2dbc1d-2618-407d-9900-255417b0bd89",
   "metadata": {},
   "outputs": [
    {
     "name": "stdin",
     "output_type": "stream",
     "text": [
      "Enter a string:  456\n"
     ]
    },
    {
     "name": "stdout",
     "output_type": "stream",
     "text": [
      "Reversed string: 654\n"
     ]
    }
   ],
   "source": [
    "text = input(\"Enter a string: \")\n",
    "reversed_str = \"\"\n",
    "i = len(text) - 1\n",
    "\n",
    "while i >= 0:\n",
    "    reversed_str += text[i]\n",
    "    i -= 1\n",
    "\n",
    "print(\"Reversed string:\", reversed_str)\n"
   ]
  },
  {
   "cell_type": "code",
   "execution_count": 31,
   "id": "ffc9080e-9432-41b3-8546-5b214f13da43",
   "metadata": {},
   "outputs": [
    {
     "name": "stdout",
     "output_type": "stream",
     "text": [
      "Factorial of 8 is 40320\n"
     ]
    }
   ],
   "source": [
    "num = 8\n",
    "factorial = 1\n",
    "i = 1\n",
    "\n",
    "while i <= num:\n",
    "    factorial *= i\n",
    "    i += 1\n",
    "\n",
    "print(\"Factorial of\", num, \"is\", factorial)"
   ]
  },
  {
   "cell_type": "code",
   "execution_count": null,
   "id": "c057c061-6417-4204-820f-7b1a0eb6f3d1",
   "metadata": {},
   "outputs": [],
   "source": []
  }
 ],
 "metadata": {
  "kernelspec": {
   "display_name": "Python 3.13 (with NumPy)",
   "language": "python",
   "name": "python313"
  },
  "language_info": {
   "codemirror_mode": {
    "name": "ipython",
    "version": 3
   },
   "file_extension": ".py",
   "mimetype": "text/x-python",
   "name": "python",
   "nbconvert_exporter": "python",
   "pygments_lexer": "ipython3",
   "version": "3.13.3"
  }
 },
 "nbformat": 4,
 "nbformat_minor": 5
}
