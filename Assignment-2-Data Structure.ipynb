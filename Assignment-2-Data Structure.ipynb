{
 "cells": [
  {
   "cell_type": "markdown",
   "id": "a64df029-f1aa-4d08-8904-245605e4b838",
   "metadata": {},
   "source": [
    "# Data Types and Structures Questions"
   ]
  },
  {
   "cell_type": "markdown",
   "id": "3eea9b94-b2a7-4590-a577-eb1ca7064028",
   "metadata": {},
   "source": [
    "# Theoretical Question"
   ]
  },
  {
   "cell_type": "code",
   "execution_count": 3,
   "id": "d5bb626f-1712-4186-a318-0e8b2fd9edff",
   "metadata": {},
   "outputs": [],
   "source": [
    "# 1. What are data structures, and why are they important?\n",
    "# Ans: Data Structures play pivotal role in python programming language as they are essential for storing, inserting, and sorting data efficiently.\n",
    "# They are Important because they:\n",
    "# Conserve memory:They use less memory\n",
    "# Handle Data in such a way that it helps us to manage the data efficiently\n",
    "# Also helps to process, access, and manipulate the data efficiently"
   ]
  },
  {
   "cell_type": "code",
   "execution_count": 2,
   "id": "0ef52589-9e11-404d-ac55-7b1e21b6db60",
   "metadata": {},
   "outputs": [],
   "source": [
    "# 2. Explain the difference between mutable and immutable data types with examples?\n",
    "# Ans: Mutable means  the elements in the datatype can be changed, replaced, and modified.\n",
    "# Examples of Mutables are List, sets, Dictionary\n",
    "# Immutable means the element in the datatype if once created cannot be changed and in some case elements are not even modified.\n",
    "# Examples of Immutable are Strings and Tuples."
   ]
  },
  {
   "cell_type": "code",
   "execution_count": 4,
   "id": "4ba77076-924b-4eb1-938b-fe55c17d0c07",
   "metadata": {},
   "outputs": [],
   "source": [
    "# 3. What are the main differences between lists and tuples in Python ?\n",
    "# Ans: List is the collections of ordered elements.List are mutable i.e if data is created you can change, add and modify the data.\n",
    "# List can also store any type of datatypes.Lists are enclosed within []\n",
    "# On the other hand Tuples are also ordered collections of data.But tuples are immutable i.e if you create the data once you cannot change, add\n",
    "# or modify the data.Tuples are encloed within ()\n"
   ]
  },
  {
   "cell_type": "code",
   "execution_count": 5,
   "id": "de238c4d-fc19-4b4b-8f29-ab726d7cca6d",
   "metadata": {},
   "outputs": [],
   "source": [
    "# 4. Describe how dictionaries store data.\n",
    "#Ans: Dictionaries Store data in the form of key-value Pair.\n",
    "# Keys must be immmutable and values can be mutable and of any data type"
   ]
  },
  {
   "cell_type": "code",
   "execution_count": 6,
   "id": "f6ce74af-e114-4f92-8725-523dc99521d7",
   "metadata": {},
   "outputs": [],
   "source": [
    "# 5. Why might you use a set instead of a list in Python?\n",
    "#Ans: I would use set instead of list when I want to add unique elements and in unordered way and faster membership testing."
   ]
  },
  {
   "cell_type": "code",
   "execution_count": 7,
   "id": "d52eee5d-3ae5-43ed-bd4c-3bc2e23744d7",
   "metadata": {},
   "outputs": [],
   "source": [
    "# 6. What is a string in Python, and how is it different from a list?\n",
    "#Ans: String is a sequence of character that represent and manipulate the textual data.\n",
    "# Strings can be written in double or single quotation\n",
    "# Difference between Strings and Lists are:\n",
    "# String is immutable but list is mutable and can store any datatype"
   ]
  },
  {
   "cell_type": "code",
   "execution_count": 8,
   "id": "a3508de9-1083-476d-97f4-fa8d2d9ef0d1",
   "metadata": {},
   "outputs": [],
   "source": [
    "#7. How do tuples ensure data integrity in Python?\n",
    "#Ans: Tuples ensure data integrity in Python because they are immutable, \n",
    "# meaning once created their values cannot be altered, protecting the data from accidental changes."
   ]
  },
  {
   "cell_type": "code",
   "execution_count": 9,
   "id": "6909a5e8-f0e8-422c-a2c9-a20760e58f8f",
   "metadata": {},
   "outputs": [],
   "source": [
    "#8. What is a hash table, and how does it relate to dictionaries in Python?\n",
    "# Ans: A hash table is a data structure that stores data in key-value pairs using a hash function for fast access. \n",
    "# Python dictionaries are implemented using hash tables, which is why lookups, insertions, and deletions are efficient."
   ]
  },
  {
   "cell_type": "code",
   "execution_count": 11,
   "id": "e71a0c8f-7d76-4d91-899b-05aff8e0ad16",
   "metadata": {},
   "outputs": [
    {
     "name": "stdout",
     "output_type": "stream",
     "text": [
      "[1, 2, ('Ajay', 'Raj'), {9, 'Banana', 5}, [85, 64]]\n"
     ]
    }
   ],
   "source": [
    "#9. Can lists contain different data types in Python?\n",
    "# Ans: Yes, lists can store elements of different data types.\n",
    "# Example\n",
    "l=[1,2,(\"Ajay\", \"Raj\"),{\"Banana\", 5,9},[85,64]]\n",
    "print(l)"
   ]
  },
  {
   "cell_type": "code",
   "execution_count": 12,
   "id": "1bf8b817-9bc3-4f76-b7c3-55dd33503a42",
   "metadata": {},
   "outputs": [],
   "source": [
    "# 10. Explain why strings are immutable in Python?\n",
    "#Ans: Strings are immutable because python program reuse the strings\n",
    "# and it is memory and time conserving.\n",
    "# This immutability also ensures reliability when strings are used as dictionary keys or in sets."
   ]
  },
  {
   "cell_type": "code",
   "execution_count": 13,
   "id": "4069d5d5-17a4-4b9b-9101-b9e1545e4c36",
   "metadata": {},
   "outputs": [],
   "source": [
    "# 11.What advantages do dictionaries offer over lists for certain tasks?\n",
    "# Ans: Advantages of dictionaries over lists are :\n",
    "# Dictionary store the data in key-values pair but list cannot do this.\n",
    "# Dictionaries offer faster lookups, insertions, and deletions using keys, while lists require searching through elements one by one.\n"
   ]
  },
  {
   "cell_type": "code",
   "execution_count": null,
   "id": "fe94c12a-ab58-41e4-b8c5-b2fb11b88f98",
   "metadata": {},
   "outputs": [],
   "source": [
    "#12  Describe a scenario where using a tuple would be preferable over a list?\n",
    "#Ans: When I want permanent and fixed data which cannot be changed like Adharcard number, \n",
    "# Passport number, etc I would use tuples over lists."
   ]
  },
  {
   "cell_type": "code",
   "execution_count": null,
   "id": "459442af-80de-4de8-97e7-8599b0a1359b",
   "metadata": {},
   "outputs": [],
   "source": [
    "#13.How do sets handle duplicate values in Python?\n",
    "# Ans: If duplicates values are inserted in sets, then sets throw\n",
    "# an error as duplicate value is not acceptable in sets"
   ]
  },
  {
   "cell_type": "code",
   "execution_count": 14,
   "id": "46292a08-4c3a-4d73-a602-f2138b1dacce",
   "metadata": {},
   "outputs": [],
   "source": [
    "# 14.How does the “in” keyword work differently for lists and dictionaries?\n",
    "# Ans: For lists, in checks if a value exists in the list.\n",
    "# For dictionaries, in checks if a key exists (not the value) in the dictionary."
   ]
  },
  {
   "cell_type": "code",
   "execution_count": 15,
   "id": "d7ca44dc-91a0-4394-aa14-9d315b875a06",
   "metadata": {},
   "outputs": [],
   "source": [
    "# 15. Can you modify the elements of a tuple? Explain why or why not?\n",
    "# Ans: No, We cannot modify the elements of tuples.\n",
    "# This is because tuple is immutable and this does not allow tuples to modify the elements"
   ]
  },
  {
   "cell_type": "code",
   "execution_count": 16,
   "id": "e1dcf781-59ad-4c11-97f2-ec844f282fe8",
   "metadata": {},
   "outputs": [],
   "source": [
    "# 16. What is a nested dictionary, and give an example of its use case?\n",
    "# Ans: Dictionary Inside dictionary is called nested dictionary. The nested dictionary can be values but not keys as keys are immutable.\n",
    "# When we want acadmic data of a student we can add the keys like name, class, rollnumber, subjects  and cand adds values to the keys \n",
    "# and in the value subjects we can add subject with thier marks as a nested dictionary "
   ]
  },
  {
   "cell_type": "code",
   "execution_count": 17,
   "id": "bc25924c-a71d-4480-8e68-279efa58c9e7",
   "metadata": {},
   "outputs": [],
   "source": [
    "#17. Describe the time complexity of accessing elements in a dictionary?\n",
    "# Ans:Accessing elements in a Python dictionary has an average time complexity of O(1) because it uses a hash table internally.\n",
    "# However, in the worst case (like hash collisions), the time complexity can degrade to O(n)"
   ]
  },
  {
   "cell_type": "code",
   "execution_count": 18,
   "id": "050714e7-3271-417e-88d4-a1675fada6aa",
   "metadata": {},
   "outputs": [],
   "source": [
    "# 18. In what situations are lists preferred over dictionaries?\n",
    "# Ans:Lists are preferred over dictionaries when we only need an ordered collection of items without key-value pairs.\n",
    "# They are useful for simple collections like a shopping list or a sequence of numbers, where order matters and fast indexing by position is required."
   ]
  },
  {
   "cell_type": "code",
   "execution_count": 19,
   "id": "c5b5bf79-f518-4959-a002-314e345d5bbc",
   "metadata": {},
   "outputs": [],
   "source": [
    "# 19. Why are dictionaries considered unordered, and how does that affect data retrieval?\n",
    "# Ans: Dictionaries are considered unordered because their elements are stored based on the hash of keys,\n",
    "# not by the order of insertion (before Python 3.7). From Python 3.7 onwards, they maintain insertion order, \n",
    "# but conceptually they are still unordered since order is not guaranteed in all implementations.\n",
    "# This doesn’t affect data retrieval because values are always accessed using keys, not positions, so retrieval remains O(1) on average."
   ]
  },
  {
   "cell_type": "code",
   "execution_count": 20,
   "id": "3afaf2ce-909c-4757-9948-0325873a161a",
   "metadata": {},
   "outputs": [],
   "source": [
    "#20. Explain the difference between a list and a dictionary in terms of data retrieval.\n",
    "#Ans: From a list, you retrieve data by index → my_list[0].\n",
    "# From a dictionary, you retrieve data by key → my_dict[\"name\"]."
   ]
  },
  {
   "cell_type": "markdown",
   "id": "1bd441a9-0a41-45d1-95c3-138756be133f",
   "metadata": {},
   "source": [
    "# Practical Questions"
   ]
  },
  {
   "cell_type": "code",
   "execution_count": 21,
   "id": "933a0e50-0720-4091-baba-9e1068754a77",
   "metadata": {},
   "outputs": [
    {
     "name": "stdout",
     "output_type": "stream",
     "text": [
      "Deepesh jha\n"
     ]
    },
    {
     "data": {
      "text/plain": [
       "str"
      ]
     },
     "execution_count": 21,
     "metadata": {},
     "output_type": "execute_result"
    }
   ],
   "source": [
    "# 1. Write a code to create a string with your name and print it?\n",
    "# Ans:\n",
    "name=\"Deepesh jha\"\n",
    "print(name)"
   ]
  },
  {
   "cell_type": "code",
   "execution_count": 22,
   "id": "0a4c0f34-9bfe-4542-99f4-f10b11b5ef71",
   "metadata": {},
   "outputs": [
    {
     "name": "stdout",
     "output_type": "stream",
     "text": [
      "11\n"
     ]
    }
   ],
   "source": [
    "# 2. Write a code to find the length of the string \"Hello World\"?\n",
    "# Ans:\n",
    "cde=\"Hello World\"\n",
    "print(len(cde))"
   ]
  },
  {
   "cell_type": "code",
   "execution_count": 25,
   "id": "0967314c-e3d9-4bc2-a99a-f7a4f79837a6",
   "metadata": {},
   "outputs": [
    {
     "name": "stdout",
     "output_type": "stream",
     "text": [
      "Pyt\n"
     ]
    }
   ],
   "source": [
    "# 3. Write a code to slice the first 3 characters from the string \"Python Programming\"?\n",
    "# Ans:\n",
    "cde=\"Python Programming\"\n",
    "a=cde[0:3]\n",
    "print(a)"
   ]
  },
  {
   "cell_type": "code",
   "execution_count": 26,
   "id": "cc949bf4-5dec-4a02-9842-bd80219a3819",
   "metadata": {},
   "outputs": [
    {
     "name": "stdout",
     "output_type": "stream",
     "text": [
      "HELLO\n"
     ]
    }
   ],
   "source": [
    "#4. Write a code to convert the string \"hello\" to uppercase?\n",
    "# Ans:\n",
    "cde=\"hello\"\n",
    "print(cde.upper())"
   ]
  },
  {
   "cell_type": "code",
   "execution_count": 27,
   "id": "1bbb9661-d1df-43c9-bc99-26d5852a5f9e",
   "metadata": {},
   "outputs": [
    {
     "name": "stdout",
     "output_type": "stream",
     "text": [
      "I like orange\n"
     ]
    }
   ],
   "source": [
    "#5. Write a code to replace the word \"apple\" with \"orange\" in the string \"I like apple\"?\n",
    "# Ans:\n",
    "cde=\"I like apple\"\n",
    "a=cde.replace(\"apple\", \"orange\")\n",
    "print(a)"
   ]
  },
  {
   "cell_type": "code",
   "execution_count": 63,
   "id": "98fa884a-0ffa-4389-85bc-fdf81612724c",
   "metadata": {},
   "outputs": [
    {
     "name": "stdout",
     "output_type": "stream",
     "text": [
      "[1, 2, 3, 4, 5]\n"
     ]
    }
   ],
   "source": [
    "#6  Write a code to create a list with numbers 1 to 5 and print it?\n",
    "# Ans:\n",
    "a=[1,2,3,4,5]\n",
    "print(a)"
   ]
  },
  {
   "cell_type": "code",
   "execution_count": 62,
   "id": "c27796a9-74a9-4397-9cd4-5f755f8e41b7",
   "metadata": {},
   "outputs": [
    {
     "name": "stdout",
     "output_type": "stream",
     "text": [
      "[1, 2, 3, 4, 10]\n"
     ]
    }
   ],
   "source": [
    "#7 Write a code to append the number 10 to the list [1, 2, 3, 4]?\n",
    "# Ans:\n",
    "a=[1,2,3,4]\n",
    "b=a.append(10)\n",
    "print(a)"
   ]
  },
  {
   "cell_type": "code",
   "execution_count": 6,
   "id": "b2039847-5f31-4aac-b1d7-4965fa8fb916",
   "metadata": {},
   "outputs": [
    {
     "name": "stdout",
     "output_type": "stream",
     "text": [
      "[1, 2, 4, 5]\n"
     ]
    }
   ],
   "source": [
    "# 8 Write a code to remove the number 3 from the list [1, 2, 3, 4, 5]?\n",
    "# Ans:\n",
    "a=[1, 2, 3, 4, 5]\n",
    "b=a.remove(3)\n",
    "print(a)"
   ]
  },
  {
   "cell_type": "code",
   "execution_count": 64,
   "id": "4d8d7fe6-d879-44e0-bb0c-3da6d79a28a1",
   "metadata": {},
   "outputs": [
    {
     "name": "stdout",
     "output_type": "stream",
     "text": [
      "b\n"
     ]
    }
   ],
   "source": [
    "#9  Write a code to access the second element in the list ['a', 'b', 'c', 'd'].\n",
    "# Ans:\n",
    "a=['a', 'b', 'c', 'd']\n",
    "print(a[1])"
   ]
  },
  {
   "cell_type": "code",
   "execution_count": 65,
   "id": "1b1262bf-4be2-411e-9cce-0169eb2dfd16",
   "metadata": {},
   "outputs": [
    {
     "name": "stdout",
     "output_type": "stream",
     "text": [
      "[50, 40, 30, 20, 10]\n"
     ]
    }
   ],
   "source": [
    "#10  Write a code to reverse the list [10, 20, 30, 40, 50].\n",
    "# Ans:\n",
    "a=[10, 20, 30, 40, 50]\n",
    "print(a[::-1])"
   ]
  },
  {
   "cell_type": "code",
   "execution_count": 66,
   "id": "98db307f-ec65-4a3f-a40e-3ebb5c186f07",
   "metadata": {},
   "outputs": [
    {
     "name": "stdout",
     "output_type": "stream",
     "text": [
      "(100, 200, 300)\n"
     ]
    }
   ],
   "source": [
    "# 11  Write a code to create a tuple with the elements 100, 200, 300 and print it.\n",
    "# Ans:\n",
    "a=(100,200,300)\n",
    "print(a)"
   ]
  },
  {
   "cell_type": "code",
   "execution_count": 67,
   "id": "90709672-07f0-42cd-a42f-0587738d3994",
   "metadata": {},
   "outputs": [
    {
     "name": "stdout",
     "output_type": "stream",
     "text": [
      "blue\n"
     ]
    }
   ],
   "source": [
    "# 12. Write a code to access the second-to-last element of the tuple ('red', 'green', 'blue', 'yellow').\n",
    "# Ans:\n",
    "a= (\"red\", \"green\", \"blue\", \"yellow\")\n",
    "second_last=a[-2]\n",
    "print(second_last)"
   ]
  },
  {
   "cell_type": "code",
   "execution_count": 68,
   "id": "8f0c4d03-f5d4-42cf-89b9-0515fc8dde32",
   "metadata": {},
   "outputs": [
    {
     "name": "stdout",
     "output_type": "stream",
     "text": [
      "5\n"
     ]
    }
   ],
   "source": [
    "# 13. Write a code to find the minimum number in the tuple (10, 20, 5, 15).\n",
    "# Ans:\n",
    "a=(10, 20, 5, 15)\n",
    "print(min(a))"
   ]
  },
  {
   "cell_type": "code",
   "execution_count": 69,
   "id": "76e52b10-e20e-4f77-a6e2-e3bdcb7bcfc2",
   "metadata": {},
   "outputs": [
    {
     "name": "stdout",
     "output_type": "stream",
     "text": [
      "1\n"
     ]
    }
   ],
   "source": [
    "#14. Write a code to find the index of the element \"cat\" in the tuple ('dog', 'cat', 'rabbit').\n",
    "# Ans:\n",
    "a=('dog', \"cat\", \"rabbit\")\n",
    "b=a.index(\"cat\")\n",
    "print(b)\n"
   ]
  },
  {
   "cell_type": "code",
   "execution_count": 70,
   "id": "a460f154-7297-4f67-9df1-1e5b936f8e2d",
   "metadata": {},
   "outputs": [
    {
     "name": "stdout",
     "output_type": "stream",
     "text": [
      "Kiwi is present in the list\n"
     ]
    }
   ],
   "source": [
    "# 15. Write a code to create a tuple containing three different fruits and check if \"kiwi\" is in it.\n",
    "# Ans:\n",
    "a=(\"Apple\", \"Orange\", \"Kiwi\",\"Banana\")\n",
    "if \"Kiwi\" in a:\n",
    "    print(\"Kiwi is present in the list\" )\n",
    "else:\n",
    "    print(\"Kiwi is not present in the list\")"
   ]
  },
  {
   "cell_type": "code",
   "execution_count": 71,
   "id": "a5c658d7-3889-44ac-9fc4-4d0913091580",
   "metadata": {},
   "outputs": [
    {
     "name": "stdout",
     "output_type": "stream",
     "text": [
      "{'c', 'b', 'a'}\n"
     ]
    }
   ],
   "source": [
    "#16. Write a code to create a set with the elements 'a', 'b', 'c' and print it.\n",
    "#Ans:\n",
    "a={\"a\",\"b\",\"c\"}\n",
    "print(a)"
   ]
  },
  {
   "cell_type": "code",
   "execution_count": 72,
   "id": "86fce637-3f15-43ec-afa3-d80673aefc14",
   "metadata": {},
   "outputs": [
    {
     "name": "stdout",
     "output_type": "stream",
     "text": [
      "set()\n",
      "None\n"
     ]
    }
   ],
   "source": [
    "# 17.Write a code to clear all elements from the set {1, 2, 3, 4, 5}.\n",
    "# Ans:\n",
    "a={1,2,3,4,5}\n",
    "b=a.clear()\n",
    "print(a)\n",
    "print(b)"
   ]
  },
  {
   "cell_type": "code",
   "execution_count": 73,
   "id": "9995b6d4-fa87-4f61-b0d5-8b60885348e5",
   "metadata": {},
   "outputs": [
    {
     "name": "stdout",
     "output_type": "stream",
     "text": [
      "{1, 2, 3, 5}\n"
     ]
    }
   ],
   "source": [
    "# 18.Write a code to remove the element 4 from the set {1, 2, 3, 4}.\n",
    "# Ans:\n",
    "a={1,2,3,4,5}\n",
    "b=a.remove(4)\n",
    "print(a)"
   ]
  },
  {
   "cell_type": "code",
   "execution_count": 74,
   "id": "0b9334d2-7369-4b7a-8776-034418bfd99c",
   "metadata": {},
   "outputs": [
    {
     "data": {
      "text/plain": [
       "{1, 2, 3, 4, 5}"
      ]
     },
     "execution_count": 74,
     "metadata": {},
     "output_type": "execute_result"
    }
   ],
   "source": [
    "# 19. Write a code to find the union of two sets {1, 2, 3} and {3, 4, 5}.\n",
    "# Ans:\n",
    "a={1,2,3}\n",
    "b={3,4,5}\n",
    "a.union(b)"
   ]
  },
  {
   "cell_type": "code",
   "execution_count": 75,
   "id": "cd8ddc7f-253e-49b8-ab15-72df17e7a7d7",
   "metadata": {},
   "outputs": [
    {
     "data": {
      "text/plain": [
       "{2, 3}"
      ]
     },
     "execution_count": 75,
     "metadata": {},
     "output_type": "execute_result"
    }
   ],
   "source": [
    "# 20. Write a code to find the intersection of two sets {1, 2, 3} and {2, 3, 4}.\n",
    "# Ans:\n",
    "a={1,2,3}\n",
    "b={2,3,4}\n",
    "a.intersection(b)"
   ]
  },
  {
   "cell_type": "code",
   "execution_count": 76,
   "id": "a90d58dd-8100-41c3-9061-6035eba9f9af",
   "metadata": {},
   "outputs": [
    {
     "name": "stdout",
     "output_type": "stream",
     "text": [
      "{'name': 'Deepesh', 'age': '22', 'City': 'Delhi'}\n"
     ]
    }
   ],
   "source": [
    "# 21 Write a code to create a dictionary with the keys \"name\", \"age\", and \"city\", and print it.\n",
    "# Ans\n",
    "a={\n",
    "    \"name\":\"Deepesh\",\n",
    "    \"age\":\"22\",\n",
    "    \"City\":\"Delhi\"\n",
    "}\n",
    "print(a)"
   ]
  },
  {
   "cell_type": "code",
   "execution_count": 77,
   "id": "e980fcea-104f-4544-b350-96a3bad5b9d6",
   "metadata": {},
   "outputs": [
    {
     "name": "stdout",
     "output_type": "stream",
     "text": [
      "{'name': 'John', 'age': '25', 'country': 'USA'}\n"
     ]
    }
   ],
   "source": [
    "# 22.Write a code to add a new key-value pair \"country\": \"USA\" to the dictionary {'name': 'John', 'age': 25}.\n",
    "# Ans:\n",
    "a={\n",
    "    \"name\":\"John\",\n",
    "    \"age\":\"25\",\n",
    "}\n",
    "a[\"country\"]=\"USA\"\n",
    "print(a)"
   ]
  },
  {
   "cell_type": "code",
   "execution_count": 78,
   "id": "06efc229-49ea-4cc4-8251-bd33dc2efea6",
   "metadata": {},
   "outputs": [
    {
     "name": "stdout",
     "output_type": "stream",
     "text": [
      "Alice\n"
     ]
    }
   ],
   "source": [
    "# 23.Write a code to access the value associated with the key \"name\" in the dictionary {'name': 'Alice', 'age': 30}.\n",
    "a={'name': 'Alice', 'age': 30}\n",
    "print(a[\"name\"])"
   ]
  },
  {
   "cell_type": "code",
   "execution_count": 79,
   "id": "ce46aacd-d743-42a7-bd39-d32612c2b4c7",
   "metadata": {},
   "outputs": [
    {
     "name": "stdout",
     "output_type": "stream",
     "text": [
      "{'name': 'Bob', 'city': 'New York'}\n"
     ]
    }
   ],
   "source": [
    "# 24.Write a code to remove the key \"age\" from the dictionary {'name': 'Bob', 'age': 22, 'city': 'New York'}.\n",
    "# Ans:\n",
    "a={'name': 'Bob', 'age': 22, 'city': 'New York'}\n",
    "a.pop(\"age\")\n",
    "print(a)"
   ]
  },
  {
   "cell_type": "code",
   "execution_count": 80,
   "id": "2fb73bfe-fc60-46af-922b-008ed68dca28",
   "metadata": {},
   "outputs": [
    {
     "name": "stdout",
     "output_type": "stream",
     "text": [
      "Key Exists in Dict\n"
     ]
    }
   ],
   "source": [
    "# 25. Write a code to check if the key \"city\" exists in the dictionary {'name': 'Alice', 'city': 'Paris'}.\n",
    "# Ans:\n",
    "a={'name': 'Alice', 'city': 'Paris'}\n",
    "if \"city\" in a.keys():\n",
    "    print(\"Key Exists in Dict\")\n",
    "else:print(\"Doesnot exist\")"
   ]
  },
  {
   "cell_type": "code",
   "execution_count": 81,
   "id": "7c46daa2-5848-408f-b6d4-45b7a2d37475",
   "metadata": {},
   "outputs": [
    {
     "name": "stdout",
     "output_type": "stream",
     "text": [
      "['abc', 'cde', 123, 1, 456]\n",
      "(12, 23, 45, 56)\n",
      "{'Name': 'Deepesh', 'Age': 23, 'city': 'Darbhanga'}\n"
     ]
    }
   ],
   "source": [
    "# 26. Write a code to create a list, a tuple, and a dictionary, and print them all.\n",
    "# Ans:\n",
    "list1=[\"abc\",\"cde\",123,1,456]\n",
    "tuple1=(12,23,45,56)\n",
    "dict1={\"Name\":\"Deepesh\",\"Age\":23,\"city\":\"Darbhanga\"}\n",
    "print(list1)\n",
    "print(tuple1)\n",
    "print(dict1)"
   ]
  },
  {
   "cell_type": "code",
   "execution_count": 82,
   "id": "12daec38-549b-45de-84f3-939e12ab1cfa",
   "metadata": {},
   "outputs": [
    {
     "name": "stdout",
     "output_type": "stream",
     "text": [
      "[5, 45, 65, 85, 99]\n"
     ]
    }
   ],
   "source": [
    "# 27 Write a code to create a list of 5 random numbers between 1 and 100, sort it in ascending order, and print the result.(replaced)\n",
    "# Ans:\n",
    "a=[5,45,85,65,99]\n",
    "print(sorted(a))\n"
   ]
  },
  {
   "cell_type": "code",
   "execution_count": 83,
   "id": "10558f81-1edc-4581-b0d6-23be41f03cdf",
   "metadata": {},
   "outputs": [
    {
     "name": "stdout",
     "output_type": "stream",
     "text": [
      "Xyz\n"
     ]
    }
   ],
   "source": [
    "# 28. Write a code to create a list with strings and print the element at the third index.\n",
    "# Ans:\n",
    "a=[\"abc\",\"Dj\",\"Xyz\",\"DKJ\"]\n",
    "print(a[2])"
   ]
  },
  {
   "cell_type": "code",
   "execution_count": 84,
   "id": "704e1155-9ac9-4c8b-9bbb-5f1164696999",
   "metadata": {},
   "outputs": [
    {
     "name": "stdout",
     "output_type": "stream",
     "text": [
      "{'name': 'Deepesh', 'Age': 23, 'Class': '9th', 'Rollno': 12, 'Section': 'A', 'Marks': 99}\n"
     ]
    }
   ],
   "source": [
    "# 29. Write a code to combine two dictionaries into one and print the result.\n",
    "# Ans:\n",
    "a={\"name\":\"Deepesh\", \"Age\":23,\"Class\":\"9th\"}\n",
    "b={\"Rollno\":12, \"Section\":\"A\", \"Marks\":99}\n",
    "a.update(b)\n",
    "print(a)"
   ]
  },
  {
   "cell_type": "code",
   "execution_count": 85,
   "id": "ae8afee7-d061-4a5c-ab01-576c2acee86e",
   "metadata": {},
   "outputs": [
    {
     "name": "stdout",
     "output_type": "stream",
     "text": [
      "{'xyz', 'Klm', 'fgh', 'Abc', 'Cde'}\n"
     ]
    },
    {
     "data": {
      "text/plain": [
       "set"
      ]
     },
     "execution_count": 85,
     "metadata": {},
     "output_type": "execute_result"
    }
   ],
   "source": [
    "# 30. Write a code to convert a list of strings into a set.\n",
    "# Ans:\n",
    "a=[\"Abc\",\"Cde\",\"fgh\",\"Klm\",\"xyz\"]\n",
    "b=set(a)\n",
    "print(b)\n",
    "type(b)"
   ]
  },
  {
   "cell_type": "code",
   "execution_count": null,
   "id": "b2607220-2140-4ca8-b3a2-50703796a911",
   "metadata": {},
   "outputs": [],
   "source": []
  },
  {
   "cell_type": "code",
   "execution_count": null,
   "id": "69ced544-a621-442a-aa03-797308951a2c",
   "metadata": {},
   "outputs": [],
   "source": []
  },
  {
   "cell_type": "code",
   "execution_count": null,
   "id": "4fa9b32f-1557-4d0b-a7b0-cb6b3e11ba87",
   "metadata": {},
   "outputs": [],
   "source": []
  },
  {
   "cell_type": "code",
   "execution_count": null,
   "id": "7a05a4ef-59bc-48ff-ac90-95781beb13dc",
   "metadata": {},
   "outputs": [],
   "source": []
  },
  {
   "cell_type": "code",
   "execution_count": null,
   "id": "72c7ca8b-7d16-4aea-8368-11b4efdc876b",
   "metadata": {},
   "outputs": [],
   "source": []
  },
  {
   "cell_type": "code",
   "execution_count": null,
   "id": "9cba8336-60b2-4fd9-b917-ff9b0f9ecb4a",
   "metadata": {},
   "outputs": [],
   "source": []
  }
 ],
 "metadata": {
  "kernelspec": {
   "display_name": "Python 3.13 (with NumPy)",
   "language": "python",
   "name": "python313"
  },
  "language_info": {
   "codemirror_mode": {
    "name": "ipython",
    "version": 3
   },
   "file_extension": ".py",
   "mimetype": "text/x-python",
   "name": "python",
   "nbconvert_exporter": "python",
   "pygments_lexer": "ipython3",
   "version": "3.13.3"
  }
 },
 "nbformat": 4,
 "nbformat_minor": 5
}
